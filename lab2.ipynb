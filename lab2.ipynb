{
 "cells": [
  {
   "cell_type": "markdown",
   "id": "0c84bb46-37cd-4cdc-b677-02535ad2b7df",
   "metadata": {},
   "source": [
    "## Overview\n",
    "\n",
    "The goal of this lab is to familiarize yourselves with Python so that we can begin handling, processing, analyzing and visualizing data. This lab will tour you through the basics of Python and will ask that you create a series of simple functions as a final deliverable. \n",
    "\n"
   ]
  },
  {
   "cell_type": "markdown",
   "id": "96b42334-796c-42b5-93e1-de3d3c6c2bb9",
   "metadata": {},
   "source": [
    "# Setting up\n",
    "\n",
    "If you aren't already viewing these instructions from within Jupyterlab, then clone the current repository to your computer and open this document from within Jupyterlab.\n",
    "\n",
    "Reminder: To do this, there are several steps you should consider which we went over in a previous lab.\n",
    "- creating a virtual environment\n",
    "- activating the virtual environment\n",
    "- installing Jupyterlab in the virtual environment\n",
    "- starting Jupyterlab\n",
    "- once inside Jupyterlab, open this .ipynb notebook\n",
    "\n",
    "You could alternatively not install a virtual environment for this lab session, and use the one you created for a previous lab. Or, you could not use a virtual environment and just install Jupyterlab globally. It is ultimately up to you to manage your own setup, however, as projects become more complex and involve more and more packages, you will want to get into the habit of creating a new environment for each project.\n",
    "\n",
    "\n",
    "\n"
   ]
  },
  {
   "cell_type": "markdown",
   "id": "9b564f85-3913-4670-9c98-da14af3dad83",
   "metadata": {},
   "source": [
    "## Understanding Jupyter notebooks\n",
    "\n",
    "You are currently reading text that was entered into a Markdown cell. In this class we will be using Code cells (where you can redact Python code) and Markdown cells (where you can write text using Markdown styling). You can create a new cell by hitting the **+** icon at the top-left of the notebook tab window (or by pressing **a** when no cells are selected). When adding a cell, a Code cell is created by default, but you can convert this cell into a Markdown cell by selecting *Markdown* from the dropdown menu at the top of the notebook tab window while the cell is selected (or you can just press **m** with the cell selected).\n",
    "\n",
    "Normally, in a standard Python script (.py file), we would use the hash symbol (#) at the start of a line whenever we wanted to add a comment to our code. However, Jupyter notebooks allow us to go a step further by creating Markdown cells, which allow for more readable and elaborate commenting. This is mostly what you will be using to comment on your work in this class. \n",
    "\n",
    "Once you have entered code or text which you are happy with, you can press **Shift+Enter** or **Ctrl/Cmd+Enter** to run the cell (or you can use the play icon at the top of the tab window). This will render the Markdown text if it is a Markdown cell, and run the Python script if it is Code cell. To edit a rendered Markdown cell, double-click on it.\n",
    "\n",
    "Note as well that the directory in which the present notebook (.ipynb file) is located is visible on the left pane. Using this browser, you can open files from within Jupyter. In fact, you can also open a console in Jupyter: hit the big plus-sign (**+**) icon on the far left, located under the *File* dropdown menu, to open a new tab. Click on **Terminal**. This will open a new console window which could be useful for several things while Jupyter is running (installing python packages, running the Python prompt, using git, etc.). Note that if you are using Jupyterlab inside an activated virtual environment, your new console will also using the Python version and packages from this virtual environment (Yay!). Note that you can create new Markdown files from the tab launcher window as well.\n",
    "\n",
    "Your entire workspace (files and folders inside your current directory) is technically accessible from within Jupyterlab: so if that simplifies things for you, then use it!\n",
    "\n",
    "For more on Jupyter, see the [official documentation](https://jupyterlab.readthedocs.io/en/stable/user/interface.html) and this [video guide](https://www.youtube.com/watch?v=A5YyoCKxEOU&ab_channel=Jupyter%2FIPython). For more on running cells and some of the intricacies involving code execution order, [watch this video](https://youtu.be/oJ6z02N0Te0?t=330) from 00:05:30 onward, which highlights some issues you will definitely face as your notebooks become more elaborate!"
   ]
  },
  {
   "cell_type": "code",
   "execution_count": 2,
   "id": "ec0b3ba2-3d23-4e1b-b9e7-f914f9ad8692",
   "metadata": {
    "tags": []
   },
   "outputs": [
    {
     "name": "stdout",
     "output_type": "stream",
     "text": [
      "hi\n"
     ]
    }
   ],
   "source": [
    "print('hi')"
   ]
  },
  {
   "cell_type": "markdown",
   "id": "cfb4add6-76a0-4d29-84bd-127b50791e0b",
   "metadata": {},
   "source": [
    "# Using .gitignore files\n",
    "\n",
    "If you are not already aware of what [.gitignore files](https://docs.github.com/en/get-started/getting-started-with-git/ignoring-files) are, then keep reading.\n",
    "\n",
    "A *.gitignore* allows you to tell git what not to track or commit to your repository. Basically, if you have created some clutter (notes, subdirectories) in your local repository, or your code has generated some unwanted files you prefer not to share to your public repository hosted on Github, then you can tell git to ignore these inside a *.gitignore* file. This file needs to be located at the root directory of your repository (i.e. not inside a subdirectory).\n",
    "\n",
    "To create a *.gitignore* file, you can do the following (some commands might be slightly different if you are in DOS):\n",
    "- `touch .gitignore` to create the file\n",
    "- `ls` to view your file in the directory\n",
    "\n",
    "Oh! You can't see it. This is because adding a point before a file or folder name makes it hidden from view. This is true in Windows Explorer (PC) or in Finder (Mac) as well.\n",
    "\n",
    "- To view hidden items, enter `ls -a` (for all). You can also add the `-l` argument for a more detailed display (`ls -al`).\n",
    "\n",
    "Now you should see your new *.gitignore* file, as well as a folder called *.git*. Note that any directory with a *.git* folder inside it is a sign that it's an active git repository. This folder is created automatically and stores your version history, etc.\n",
    "\n",
    "- To edit your *gitignore* file, open it in the text editor of your choice (if you are willing to do this directly from within the console, you can type `vi .gitignore` to open the file in Vim). If you want to use another text editor that you cannot access directly through a command, you will need to navigate to your directory and open it from outside the command line.\n",
    "\n",
    "In your .gitignore file, you can use basically write out each file you would like to ignore on a separate line. If you want to wanted to ignore an entire folder, then you just need to write the folder name followed by a */*.\n",
    "\n",
    "In my case, I would like git to ignore my virtual environment folder, which I happened to have created inside my repo. I would also like it to ignore the *.ipynb_checkpoints* folder that was created automatically by Jupyter.\n",
    "\n",
    "- If this is true for you as well, then input the following text inside your *.gitignore* (note that the asterisk symbol \\* is used here to ignore all folders). If you are using Vim, then you will need to press *i* before inputting anything.\n",
    "\n",
    "```\n",
    "venv*/\n",
    ".ipynb_checkpoints/\n",
    "```\n",
    "\n",
    "In the snippet above, *venv\\*/* is used to match with any folder that starts with the word venv, followed by any number of other characters or digits. For more elaborate pattern matching guidance, you can refer to this [documentation](https://git-scm.com/docs/gitignore#_pattern_format). Add any other files or folders you would like to hide from your online repository...\n",
    "\n",
    "- When you are done inputting what you want git to ignore, save and close your text editor (*:wq* in Vim).\n",
    "- Now, enter `git status`: any untracked items you input into your gitignore file will no longer be visible.\n",
    "\n",
    "❗ Removing files that are already tracked...\n",
    "\n",
    "If you have already added and started tracking changes to a file which you would now like git to ignore, see the following instructions, quoted from [Github](https://docs.github.com/en/get-started/getting-started-with-git/ignoring-files):\n",
    "\n",
    "> If you want to ignore a file that is already checked in, you must untrack the file before you add a rule to ignore it. From your terminal, untrack the file. `$ git rm --cached FILENAME`\n",
    "\n",
    "## Pushing your .gitignore to your online repo\n",
    "\n",
    "The last thing to consider is whether or not you would like your gitignore to be public. If you were pushing this code to a repo you expect others to be downloading and using, you might not want them to see what you're trying to ignore on your own machine. In this case, though, the instructor would like to see your gitignore file.\n",
    "\n",
    "📝 check in your gitignore file and commit it to your repo so that it gets pushed to Github: `git add .gitignore`, `git commit -m 'add .gitignore'` and then `git push` when you are ready."
   ]
  },
  {
   "cell_type": "markdown",
   "id": "c63dd668-0858-4e58-9cd8-90894a60830f",
   "metadata": {},
   "source": [
    "# Deliverables\n",
    "\n",
    "You will need to push the following to your online repository for evaluation:\n",
    "1. Your modified *lab2.ipynb* containing:\n",
    "   * Your completed function\n",
    "2. Your .gitignore file\n",
    "   * Note that your repo cannot contain a virtual environment folder or *.ipynb_checkpoints* folder"
   ]
  }
 ],
 "metadata": {
  "kernelspec": {
   "display_name": "Python 3 (ipykernel)",
   "language": "python",
   "name": "python3"
  },
  "language_info": {
   "codemirror_mode": {
    "name": "ipython",
    "version": 3
   },
   "file_extension": ".py",
   "mimetype": "text/x-python",
   "name": "python",
   "nbconvert_exporter": "python",
   "pygments_lexer": "ipython3",
   "version": "3.10.1"
  }
 },
 "nbformat": 4,
 "nbformat_minor": 5
}
